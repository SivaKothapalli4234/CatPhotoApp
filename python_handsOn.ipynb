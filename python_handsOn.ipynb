{
  "nbformat": 4,
  "nbformat_minor": 0,
  "metadata": {
    "colab": {
      "provenance": [],
      "authorship_tag": "ABX9TyMSVIaDEmSrNZLj3ZYMqxVG",
      "include_colab_link": true
    },
    "kernelspec": {
      "name": "python3",
      "display_name": "Python 3"
    },
    "language_info": {
      "name": "python"
    }
  },
  "cells": [
    {
      "cell_type": "markdown",
      "metadata": {
        "id": "view-in-github",
        "colab_type": "text"
      },
      "source": [
        "<a href=\"https://colab.research.google.com/github/SivaKothapalli4234/CatPhotoApp/blob/main/python_handsOn.ipynb\" target=\"_parent\"><img src=\"https://colab.research.google.com/assets/colab-badge.svg\" alt=\"Open In Colab\"/></a>"
      ]
    },
    {
      "cell_type": "markdown",
      "source": [
        "**Python Functions Hands-on**"
      ],
      "metadata": {
        "id": "1Vb7GPL5-XY8"
      }
    },
    {
      "cell_type": "code",
      "source": [
        "def add(a,b):\n",
        "  return a+b\n",
        "def sub(a,b):\n",
        "  return a-b\n",
        "def mul(a,b):\n",
        "  return a*b\n",
        "def div(a,b):\n",
        "  return a/b\n",
        "def floodiv(a,b):\n",
        "  return a//b\n",
        "\n",
        "\n",
        "print(\"1.Addition\")\n",
        "print(\"2.Subtraction\")\n",
        "print(\"3.Multiplication\")\n",
        "print(\"4.Division\")\n",
        "print(\"5.Floor Division\")\n",
        "n1=int(input(\"Enter first number:\"))\n",
        "n2=int(input(\"Enter second number:\"))\n",
        "choice=int(input(\"Enter your choice:\"))\n",
        "if(choice==1):\n",
        "    print(add(n1,n1))\n",
        "elif(choice==2):\n",
        "    print(sub(n1,n2))\n",
        "elif(choice==3):\n",
        "    print(mul(n1,n2))\n",
        "elif(choice==4):\n",
        "    print(div(n1,n2))\n",
        "elif(choice==5):\n",
        "    print(floodiv(n1,n2))\n",
        "else:\n",
        "    print(\"Invalid choice\")"
      ],
      "metadata": {
        "colab": {
          "base_uri": "https://localhost:8080/"
        },
        "id": "t9iq0jTO-j9G",
        "outputId": "4dd26257-6c28-4b0c-a217-0ede152d2df0"
      },
      "execution_count": 7,
      "outputs": [
        {
          "output_type": "stream",
          "name": "stdout",
          "text": [
            "1.Addition\n",
            "2.Subtraction\n",
            "3.Multiplication\n",
            "4.Division\n",
            "5.Floor Division\n",
            "Enter first number:20\n",
            "Enter second number:5\n",
            "Enter your choice:3\n",
            "100\n"
          ]
        }
      ]
    },
    {
      "cell_type": "code",
      "source": [
        "square =lambda n:n*n\n",
        "print(square(3))"
      ],
      "metadata": {
        "colab": {
          "base_uri": "https://localhost:8080/"
        },
        "id": "D7pYB6cG_kg5",
        "outputId": "ebd22d89-2e00-4f1c-ce04-a188db0d3367"
      },
      "execution_count": 1,
      "outputs": [
        {
          "output_type": "stream",
          "name": "stdout",
          "text": [
            "9\n"
          ]
        }
      ]
    },
    {
      "cell_type": "code",
      "source": [
        "def squares(n):\n",
        "  i=1;\n",
        "  list=[]\n",
        "  while(i<=n):\n",
        "    result=square(i)\n",
        "    list.append(result)\n",
        "    i+=1\n",
        "  print(list)\n",
        "square=lambda i:i*i\n",
        "squares(5)"
      ],
      "metadata": {
        "colab": {
          "base_uri": "https://localhost:8080/"
        },
        "id": "L_twbFr8Et34",
        "outputId": "0294111d-8e31-42cd-aa71-8db46fa3fa42"
      },
      "execution_count": 5,
      "outputs": [
        {
          "output_type": "stream",
          "name": "stdout",
          "text": [
            "[1, 4, 9, 16, 25]\n"
          ]
        }
      ]
    },
    {
      "cell_type": "markdown",
      "source": [
        "**Armstrong Number**"
      ],
      "metadata": {
        "id": "MmsoJfLBHUHH"
      }
    },
    {
      "cell_type": "code",
      "source": [
        "def Armstrong(n):\n",
        "  num=str(n)\n",
        "  l=len(num)\n",
        "  temp=n\n",
        "  sum=0\n",
        "  while(temp>0):\n",
        "      r=temp%10\n",
        "      print(r)\n",
        "      sum=sum+pow(r,l)\n",
        "      print(sum)\n",
        "      temp=temp//10\n",
        "  if sum==n:\n",
        "    print(\"Armstrong number\")\n",
        "  else:\n",
        "    print(\"Not Armstrong number\")\n",
        "\n",
        "Armstrong(153)"
      ],
      "metadata": {
        "colab": {
          "base_uri": "https://localhost:8080/"
        },
        "id": "BTxGIDXmHZ1d",
        "outputId": "2d535b74-7ccd-4c86-d20f-8ec57ed7df45"
      },
      "execution_count": 10,
      "outputs": [
        {
          "output_type": "stream",
          "name": "stdout",
          "text": [
            "3\n",
            "27\n",
            "5\n",
            "152\n",
            "1\n",
            "153\n",
            "Armstrong number\n"
          ]
        }
      ]
    },
    {
      "cell_type": "markdown",
      "source": [
        "**Fibonnaci Sequence**"
      ],
      "metadata": {
        "id": "FTIA5sTuM-D1"
      }
    },
    {
      "cell_type": "code",
      "source": [
        "def Fibonnaci(n):\n",
        "  n1=0\n",
        "  n2=1\n",
        "  list=[n1,n2]\n",
        "  i=2\n",
        "  while(i<n):\n",
        "    n3=n1+n2\n",
        "    list.append(n3)\n",
        "    n1=n2\n",
        "    n2=n3\n",
        "    i+=1\n",
        "  print(list)\n",
        "\n",
        "Fibonnaci(10)\n"
      ],
      "metadata": {
        "colab": {
          "base_uri": "https://localhost:8080/"
        },
        "id": "AuH0yFdXM87U",
        "outputId": "736e0c90-4788-43ce-9d7a-4fbb00d94aeb"
      },
      "execution_count": 12,
      "outputs": [
        {
          "output_type": "stream",
          "name": "stdout",
          "text": [
            "[0, 1, 1, 2, 3, 5, 8, 13, 21, 34]\n"
          ]
        }
      ]
    }
  ]
}